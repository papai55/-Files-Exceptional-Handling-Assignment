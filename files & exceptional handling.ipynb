{
 "cells": [
  {
   "cell_type": "markdown",
   "id": "111cdcf9-59ff-49e1-a31e-325d489ca5cc",
   "metadata": {},
   "source": [
    "# Files, exceptional handling, logging and V memory management Questions"
   ]
  },
  {
   "cell_type": "markdown",
   "id": "08068374-6a5b-401c-a497-87d2a5670d1c",
   "metadata": {
    "jp-MarkdownHeadingCollapsed": true
   },
   "source": [
    "### 1. What is the difference between interpreted and compiled languages?\n",
    "- Interpreted languages (like Python) execute code line by line using an interpreter.\n",
    "\n",
    "- Compiled languages (like C++) are translated into machine code before execution using a compiler.\n",
    "\n",
    "- Interpreted languages are easier to debug but slower in performance.\n",
    "\n",
    "### 2. What is exception handling in Python?\n",
    " - Exception handling in Python allows the program to catch and manage runtime errors using try, except, else, and finally blocks to avoid crashes.\n",
    "\n",
    "### 3. What is the purpose of the finally block in exception handling?\n",
    " - The finally block executes code regardless of whether an exception occurred or not. It's often used for cleanup actions like closing files or releasing resources.\n",
    "\n",
    "### 4. What is logging in Python?\n",
    " - Logging is the process of recording events that happen when software runs. Python’s logging module helps track errors, warnings, and other events for debugging and monitoring.\n",
    "\n",
    "### 5. What is the significance of the __del__ method in Python?\n",
    " - The __del__ method is a destructor method that gets called when an object is about to be destroyed. It’s used to release external resources like files or database connections.\n",
    "\n",
    "### 6. What is the difference between import and from ... import in Python?\n",
    "- import module imports the whole module.\n",
    "\n",
    "- from module import name imports a specific part (function, class, variable) of the module.\n",
    "\n",
    "### 7. How can you handle multiple exceptions in Python?\n",
    " - In Python, you can handle multiple exceptions using the try...except block. When a block of code inside try might raise more than one type of exception, you can use multiple except clauses, or group exceptions in a tuple to handle them efficiently.\n",
    "except (ValueError, TypeError)\n",
    "### 8. What is the purpose of the with statement when handling files in Python?\n",
    " - The with statement ensures that resources like files are properly opened and closed automatically, even if an error occurs.\n",
    "\n",
    "\n",
    "with open('file.txt') as f:\n",
    "    data = f.read()\n",
    "### 9. What is the difference between multithreading and multiprocessing?\n",
    "- Multithreading: Multiple threads share the same memory space; suitable for I/O-bound tasks.\n",
    "\n",
    "- Multiprocessing: Uses separate memory space and CPU cores; ideal for CPU-bound tasks.\n",
    "\n",
    "### 10. What are the advantages of using logging in a program?\n",
    "- Helps with debugging and tracing errors.\n",
    "\n",
    "- Keeps a record of application events.\n",
    "\n",
    "- More flexible than print statements.\n",
    "\n",
    "### 11. What is memory management in Python?\n",
    " - Memory management involves allocating and freeing memory during program execution. Python handles this using private heap space and a garbage collector.\n",
    "\n",
    "### 12. What are the basic steps involved in exception handling in Python?\n",
    "- Use try to wrap code that might raise an exception.\n",
    "\n",
    "- Use except to catch and handle specific exceptions.\n",
    "\n",
    "- Optionally use else to run code if no exception occurs.\n",
    "\n",
    "- Use finally to run cleanup code.\n",
    "\n",
    "### 13. Why is memory management important in Python?\n",
    " - Good memory management prevents memory leaks, improves performance, and ensures efficient use of resources.\n",
    "\n",
    "### 14. What is the role of try and except in exception handling?\n",
    "- try: Wraps code that might throw an error.\n",
    "\n",
    "- except: Catches and handles the error gracefully to avoid crashing the program.\n",
    "\n",
    "### 15. How does Python’s garbage collection system work?\n",
    " - Python uses reference counting and a cyclic garbage collector to automatically free memory occupied by objects no longer in use.\n",
    "\n",
    "### 16. What is the purpose of the else block in exception handling?\n",
    " - The else block runs only if no exceptions occur in the try block. It’s useful for code that should run only on successful execution.\n",
    "\n",
    "### 17. What are the common logging levels in Python?\n",
    "From lowest to highest severity:\n",
    "\n",
    "- DEBUG\n",
    "\n",
    "- INFO\n",
    "\n",
    "- WARNING\n",
    "\n",
    "- ERROR\n",
    "\n",
    "- CRITICAL\n",
    "\n",
    "### 18. What is the difference between os.fork() and multiprocessing in Python?\n",
    "- os.fork() creates a new process by duplicating the current one (Unix only).\n",
    "\n",
    "- multiprocessing is a cross-platform module that simplifies creating processes.\n",
    "\n",
    "### 19. What is the importance of closing a file in Python?\n",
    "Closing a file:\n",
    "\n",
    "- Flushes the buffer.\n",
    "\n",
    "- Releases system resources.\n",
    "\n",
    "- Prevents file corruption or memory leaks.\n",
    "\n",
    "### 20. What is the difference between file.read() and file.readline() in Python?\n",
    "- read(): Reads the entire file content.\n",
    "\n",
    "- readline(): Reads one line at a time.\n",
    "\n",
    "### 21. What is the logging module in Python used for?\n",
    " - Used to log messages during program execution, including errors, warnings, and general information, to help in debugging and monitoring.\n",
    "\n",
    "### 22. What is the os module in Python used for in file handling?\n",
    "The os module provides functions to interact with the operating system:\n",
    "\n",
    "- Creating/deleting directories\n",
    "\n",
    "- Getting file paths\n",
    "\n",
    "- Checking file existence\n",
    "\n",
    "- File permissions\n",
    "\n",
    "### 23. What are the challenges associated with memory management in Python?\n",
    "- Handling circular references.\n",
    "\n",
    "- Avoiding memory leaks in long-running programs.\n",
    "\n",
    "- Efficient use of large data structures.\n",
    "\n",
    "### 24. How do you raise an exception manually in Python?\n",
    " - Use the raise keyword:\n",
    "\n",
    "raise ValueError(\"Invalid value\")\n",
    "### 25. Why is it important to use multithreading in certain applications?\n",
    " - Multithreading is useful for I/O-bound tasks (like file or network operations) where threads can run concurrently, improving responsiveness and performance.\n",
    "\n"
   ]
  },
  {
   "cell_type": "markdown",
   "id": "ab7b65fe-0934-4530-97bb-819749e59f36",
   "metadata": {},
   "source": [
    "# Practical Questions "
   ]
  },
  {
   "cell_type": "markdown",
   "id": "d37ffd85-0239-4692-a110-e34c0e885f9c",
   "metadata": {},
   "source": [
    " ### 1. How can you open a file for writing in Python and write a string to it?"
   ]
  },
  {
   "cell_type": "code",
   "execution_count": 1,
   "id": "5ef6b077-a9b5-42f6-aa1c-792d5ef59995",
   "metadata": {},
   "outputs": [
    {
     "name": "stdout",
     "output_type": "stream",
     "text": [
      "Successfully wrote to 'my_file.txt'\n"
     ]
    }
   ],
   "source": [
    "\n",
    "try:\n",
    "    with open(\"my_file.txt\", \"w\") as file:\n",
    "        file.write(\"Hello, this is a test string.\\n\")\n",
    "        file.write(\"This is a second line.\")\n",
    "    print(\"Successfully wrote to 'my_file.txt'\")\n",
    "except IOError as e:\n",
    "    print(f\"Error writing to file: {e}\")"
   ]
  },
  {
   "cell_type": "markdown",
   "id": "7737462f-4abc-4c80-8c1b-8462abb53d26",
   "metadata": {},
   "source": [
    "### 2. Write a Python program to read the contents of a file and print each line.\n"
   ]
  },
  {
   "cell_type": "code",
   "execution_count": 6,
   "id": "acbdb64f-b625-4853-8270-689083dafbfc",
   "metadata": {},
   "outputs": [
    {
     "name": "stdout",
     "output_type": "stream",
     "text": [
      "Hello, Python!\n"
     ]
    }
   ],
   "source": [
    "with open('example.txt', 'r') as f:\n",
    "    for line in f:\n",
    "        print(line.strip())\n"
   ]
  },
  {
   "cell_type": "markdown",
   "id": "3b8f7c2d-c827-4dce-b8a1-637ae51a3eef",
   "metadata": {},
   "source": [
    "### 3. How would you handle a case where the file doesn't exist while trying to open it for reading?"
   ]
  },
  {
   "cell_type": "code",
   "execution_count": 7,
   "id": "5f0efc42-3e37-4f7c-9db2-02eee9fd3f1d",
   "metadata": {},
   "outputs": [
    {
     "name": "stdout",
     "output_type": "stream",
     "text": [
      "File not found.\n"
     ]
    }
   ],
   "source": [
    "try:\n",
    "    with open('missing.txt', 'r') as f:\n",
    "        print(f.read())\n",
    "except FileNotFoundError:\n",
    "    print(\"File not found.\")\n"
   ]
  },
  {
   "cell_type": "markdown",
   "id": "402216f2-4068-4c71-b080-864892de2bc4",
   "metadata": {},
   "source": [
    "### 4. Write a Python script that reads from one file and writes its content to another file."
   ]
  },
  {
   "cell_type": "code",
   "execution_count": 39,
   "id": "9ba3894b-1f27-4131-adf4-e76ca34b92db",
   "metadata": {},
   "outputs": [
    {
     "name": "stdout",
     "output_type": "stream",
     "text": [
      "Successfully copied content from 'my_file.txt' to 'my_file_copy.txt'\n"
     ]
    }
   ],
   "source": [
    "# Program for Question 4\n",
    "source_file = \"my_file.txt\"\n",
    "destination_file = \"my_file_copy.txt\"\n",
    "\n",
    "try:\n",
    "    with open(source_file, \"r\") as src:\n",
    "        content = src.read()\n",
    "    with open(destination_file, \"w\") as dest:\n",
    "        dest.write(content)\n",
    "    print(f\"Successfully copied content from '{source_file}' to '{destination_file}'\")\n",
    "except FileNotFoundError:\n",
    "    print(f\"Error: Source file '{source_file}' not found.\")\n",
    "except IOError as e:\n",
    "    print(f\"Error during file operation: {e}\")"
   ]
  },
  {
   "cell_type": "markdown",
   "id": "557d3354-f9ab-4b3a-98cd-cd5fcda326c8",
   "metadata": {},
   "source": [
    "### 5. How would you catch and handle division by zero error in Python?"
   ]
  },
  {
   "cell_type": "code",
   "execution_count": 2,
   "id": "5eb8706e-762e-4c4a-a5cc-107605446998",
   "metadata": {},
   "outputs": [
    {
     "name": "stdout",
     "output_type": "stream",
     "text": [
      "Cannot divide by zero.\n"
     ]
    }
   ],
   "source": [
    "try:\n",
    "    result = 10 / 0\n",
    "except ZeroDivisionError:\n",
    "    print(\"Cannot divide by zero.\")\n"
   ]
  },
  {
   "cell_type": "markdown",
   "id": "02687d7a-b6c5-4141-88d0-eabb747d0d42",
   "metadata": {},
   "source": [
    "### 6. Write a Python program that logs an error message to a log file when a division by zero exception occurs."
   ]
  },
  {
   "cell_type": "code",
   "execution_count": 42,
   "id": "ef4dcb24-ccff-4330-9b55-9e58457a104f",
   "metadata": {},
   "outputs": [],
   "source": [
    "import logging\n",
    "\n",
    "logging.basicConfig(filename='error.log', level=logging.ERROR)\n",
    "\n",
    "try:\n",
    "    5 / 0\n",
    "except ZeroDivisionError:\n",
    "    logging.error(\"Division by zero occurred.\")\n"
   ]
  },
  {
   "cell_type": "markdown",
   "id": "af5883dc-9b29-46f7-8cf9-6a1b5481a29d",
   "metadata": {},
   "source": [
    "### 7. How do you log information at different levels (INFO, ERROR, WARNING) in Python using the logging module?"
   ]
  },
  {
   "cell_type": "code",
   "execution_count": 43,
   "id": "2afb27a8-18cc-464f-959b-cd1761d4e116",
   "metadata": {},
   "outputs": [],
   "source": [
    "import logging\n",
    "\n",
    "logging.basicConfig(level=logging.DEBUG)\n",
    "\n",
    "logging.info(\"This is info\")\n",
    "logging.warning(\"This is a warning\")\n",
    "logging.error(\"This is an error\")\n"
   ]
  },
  {
   "cell_type": "markdown",
   "id": "ca6244df-00b0-42af-a592-3cd1b624f671",
   "metadata": {},
   "source": [
    "### 8. Write a program to handle a file opening error using exception handling."
   ]
  },
  {
   "cell_type": "code",
   "execution_count": 12,
   "id": "6b212969-9e94-422a-ae69-baa4515d6dae",
   "metadata": {},
   "outputs": [
    {
     "name": "stdout",
     "output_type": "stream",
     "text": [
      "Error opening file: [Errno 2] No such file or directory: 'nonexistent.txt'\n"
     ]
    }
   ],
   "source": [
    "try:\n",
    "    with open('nonexistent.txt', 'r') as f:\n",
    "        data = f.read()\n",
    "except IOError as e:\n",
    "    print(\"Error opening file:\", e)\n"
   ]
  },
  {
   "cell_type": "markdown",
   "id": "13ffa5f1-e7d8-4321-b900-3d957f44ddde",
   "metadata": {},
   "source": [
    "### 9. How can you read a file line by line and store its content in a list in Python?\n"
   ]
  },
  {
   "cell_type": "code",
   "execution_count": 13,
   "id": "481f9f62-521a-4b73-8630-715596cdd607",
   "metadata": {},
   "outputs": [
    {
     "name": "stdout",
     "output_type": "stream",
     "text": [
      "['Hello, Python!']\n"
     ]
    }
   ],
   "source": [
    "with open('example.txt', 'r') as f:\n",
    "    lines = [line.strip() for line in f]\n",
    "print(lines)\n"
   ]
  },
  {
   "cell_type": "markdown",
   "id": "8612cef9-e393-4745-a6fe-890637810e9d",
   "metadata": {},
   "source": [
    "### 10. How can you append data to an existing file in Python?"
   ]
  },
  {
   "cell_type": "code",
   "execution_count": 34,
   "id": "79258f45-598a-465a-a930-f2d7b71937db",
   "metadata": {},
   "outputs": [],
   "source": [
    "with open('example.txt', 'a') as f:\n",
    "    f.write(\"\\nAppended line.\")\n"
   ]
  },
  {
   "cell_type": "markdown",
   "id": "d831b826-75f0-41fc-9940-4b22a411486e",
   "metadata": {},
   "source": [
    "### 11. Write a Python program that uses a try-except block to handle an error when attempting to access a dictionary key that doesn’t exist."
   ]
  },
  {
   "cell_type": "code",
   "execution_count": 16,
   "id": "4ff1abda-52e2-46c5-b423-edde4570aeb1",
   "metadata": {},
   "outputs": [
    {
     "name": "stdout",
     "output_type": "stream",
     "text": [
      "Key not found in dictionary.\n"
     ]
    }
   ],
   "source": [
    "my_dict = {'a': 1}\n",
    "try:\n",
    "    print(my_dict['b'])\n",
    "except KeyError:\n",
    "    print(\"Key not found in dictionary.\")\n"
   ]
  },
  {
   "cell_type": "markdown",
   "id": "f476c2fb-c3e9-416e-bc80-dceb8e7c6931",
   "metadata": {},
   "source": [
    "### 12. Write a program that demonstrates using multiple except blocks to handle different types of exceptions."
   ]
  },
  {
   "cell_type": "code",
   "execution_count": 17,
   "id": "75cab943-5097-405a-ab88-4310b8bfd2f9",
   "metadata": {},
   "outputs": [
    {
     "name": "stdout",
     "output_type": "stream",
     "text": [
      "Invalid value.\n"
     ]
    }
   ],
   "source": [
    "try:\n",
    "    x = int(\"not a number\")\n",
    "    y = 10 / 0\n",
    "except ValueError:\n",
    "    print(\"Invalid value.\")\n",
    "except ZeroDivisionError:\n",
    "    print(\"Cannot divide by zero.\")\n"
   ]
  },
  {
   "cell_type": "markdown",
   "id": "15fc68d3-0099-4b4f-a5ff-89eec3354df7",
   "metadata": {},
   "source": [
    "### 13. How would you check if a file exists before attempting to read it in Python?"
   ]
  },
  {
   "cell_type": "code",
   "execution_count": 18,
   "id": "2d38fc11-df4f-4fb1-b165-0938a160ef58",
   "metadata": {},
   "outputs": [
    {
     "name": "stdout",
     "output_type": "stream",
     "text": [
      "Hello, Python!\n",
      "Appended line.\n"
     ]
    }
   ],
   "source": [
    "import os\n",
    "\n",
    "if os.path.exists('example.txt'):\n",
    "    with open('example.txt', 'r') as f:\n",
    "        print(f.read())\n",
    "else:\n",
    "    print(\"File does not exist.\")\n"
   ]
  },
  {
   "cell_type": "markdown",
   "id": "96040561-255c-4524-a3f7-2a5765c070a0",
   "metadata": {},
   "source": [
    "### 14. Write a program that uses the logging module to log both informational and error messages.\n",
    "\n"
   ]
  },
  {
   "cell_type": "code",
   "execution_count": 20,
   "id": "aceb08cb-7d4d-453b-a6f3-cbe0a251d8f1",
   "metadata": {},
   "outputs": [],
   "source": [
    "import logging\n",
    "\n",
    "logging.basicConfig(filename='app.log', level=logging.INFO)\n",
    "logging.info(\"Program started.\")\n",
    "\n",
    "try:\n",
    "    10 / 0\n",
    "except ZeroDivisionError:\n",
    "    logging.error(\"Division by zero error.\")\n"
   ]
  },
  {
   "cell_type": "markdown",
   "id": "f7bc2e30-e3d2-4a02-8c5b-44e1f0367b29",
   "metadata": {},
   "source": [
    "### 15. Write a Python program that prints the content of a file and handles the case when the file is empty."
   ]
  },
  {
   "cell_type": "code",
   "execution_count": 21,
   "id": "f46460bb-aed9-40d8-9fbf-c25179ea137a",
   "metadata": {},
   "outputs": [
    {
     "name": "stdout",
     "output_type": "stream",
     "text": [
      "Hello, Python!\n",
      "Appended line.\n"
     ]
    }
   ],
   "source": [
    "with open('example.txt', 'r') as f:\n",
    "    content = f.read()\n",
    "    if content:\n",
    "        print(content)\n",
    "    else:\n",
    "        print(\"File is empty.\")\n"
   ]
  },
  {
   "cell_type": "markdown",
   "id": "d66667d7-fb44-4ed6-bf8f-4e3594789d05",
   "metadata": {},
   "source": [
    "### 16. Demonstrate how to use memory profiling to check the memory usage of a small program."
   ]
  },
  {
   "cell_type": "code",
   "execution_count": 45,
   "id": "7c3f7dfb-f2fe-46d0-8e8b-7278d84e43e5",
   "metadata": {},
   "outputs": [
    {
     "ename": "ModuleNotFoundError",
     "evalue": "No module named 'memory_profiler'",
     "output_type": "error",
     "traceback": [
      "\u001b[31m---------------------------------------------------------------------------\u001b[39m",
      "\u001b[31mModuleNotFoundError\u001b[39m                       Traceback (most recent call last)",
      "\u001b[36mCell\u001b[39m\u001b[36m \u001b[39m\u001b[32mIn[45]\u001b[39m\u001b[32m, line 2\u001b[39m\n\u001b[32m      1\u001b[39m \u001b[38;5;66;03m# Install memory_profiler: pip install memory-profiler\u001b[39;00m\n\u001b[32m----> \u001b[39m\u001b[32m2\u001b[39m \u001b[38;5;28;01mfrom\u001b[39;00m\u001b[38;5;250m \u001b[39m\u001b[34;01mmemory_profiler\u001b[39;00m\u001b[38;5;250m \u001b[39m\u001b[38;5;28;01mimport\u001b[39;00m profile\n\u001b[32m      4\u001b[39m \u001b[38;5;129m@profile\u001b[39m\n\u001b[32m      5\u001b[39m \u001b[38;5;28;01mdef\u001b[39;00m\u001b[38;5;250m \u001b[39m\u001b[34mtest_memory\u001b[39m():\n\u001b[32m      6\u001b[39m     a = [i \u001b[38;5;28;01mfor\u001b[39;00m i \u001b[38;5;129;01min\u001b[39;00m \u001b[38;5;28mrange\u001b[39m(\u001b[32m1000000\u001b[39m)]\n",
      "\u001b[31mModuleNotFoundError\u001b[39m: No module named 'memory_profiler'"
     ]
    }
   ],
   "source": [
    "# Install memory_profiler: pip install memory-profiler\n",
    "from memory_profiler import profile\n",
    "\n",
    "@profile\n",
    "def test_memory():\n",
    "    a = [i for i in range(1000000)]\n",
    "    return a\n",
    "\n",
    "test_memory()\n"
   ]
  },
  {
   "cell_type": "markdown",
   "id": "f65d9456-c2af-49ff-9efd-90b9a158fb9d",
   "metadata": {},
   "source": [
    "### 17. Write a Python program to create and write a list of numbers to a file, one number per line."
   ]
  },
  {
   "cell_type": "code",
   "execution_count": 23,
   "id": "35a4db73-0d68-4fc9-afdf-964e223d547e",
   "metadata": {},
   "outputs": [],
   "source": [
    "numbers = [1, 2, 3, 4, 5]\n",
    "with open('numbers.txt', 'w') as f:\n",
    "    for num in numbers:\n",
    "        f.write(f\"{num}\\n\")\n"
   ]
  },
  {
   "cell_type": "markdown",
   "id": "0bc20465-04ea-465c-8453-8a5f108b8e24",
   "metadata": {},
   "source": [
    "### 18. How would you implement a basic logging setup that logs to a file with rotation after 1MB?\n",
    "python\n",
    "Copy code\n"
   ]
  },
  {
   "cell_type": "code",
   "execution_count": 24,
   "id": "ce9bc602-54c0-445f-98a0-9624dfcb56a3",
   "metadata": {},
   "outputs": [],
   "source": [
    "import logging\n",
    "from logging.handlers import RotatingFileHandler\n",
    "\n",
    "handler = RotatingFileHandler('app.log', maxBytes=1_000_000, backupCount=5)\n",
    "logging.basicConfig(handlers=[handler], level=logging.INFO)\n",
    "logging.info(\"This is a rotating log example.\")\n"
   ]
  },
  {
   "cell_type": "markdown",
   "id": "40171b50-e94a-4f65-a884-1e3e330910dd",
   "metadata": {},
   "source": [
    "### 19. Write a program that handles both IndexError and KeyError using a try-except block."
   ]
  },
  {
   "cell_type": "code",
   "execution_count": 25,
   "id": "c16fc36e-ef95-4023-bc5c-8b848fbce7f1",
   "metadata": {},
   "outputs": [
    {
     "name": "stdout",
     "output_type": "stream",
     "text": [
      "Index out of range.\n"
     ]
    }
   ],
   "source": [
    "try:\n",
    "    lst = [1, 2]\n",
    "    print(lst[3])\n",
    "    d = {'x': 1}\n",
    "    print(d['y'])\n",
    "except IndexError:\n",
    "    print(\"Index out of range.\")\n",
    "except KeyError:\n",
    "    print(\"Key not found.\")\n"
   ]
  },
  {
   "cell_type": "markdown",
   "id": "750d6938-6d05-44db-b879-9ada37faa52f",
   "metadata": {},
   "source": [
    " ### 20. How would you open a file and read its contents using a context manager in Python?"
   ]
  },
  {
   "cell_type": "code",
   "execution_count": 26,
   "id": "ceba4b69-5644-48ff-a8ce-0434575a98e3",
   "metadata": {},
   "outputs": [
    {
     "name": "stdout",
     "output_type": "stream",
     "text": [
      "Hello, Python!\n",
      "Appended line.\n"
     ]
    }
   ],
   "source": [
    "with open('example.txt', 'r') as f:\n",
    "    print(f.read())\n"
   ]
  },
  {
   "cell_type": "markdown",
   "id": "f4b45cfd-8ea0-4689-a186-8669670630c4",
   "metadata": {},
   "source": [
    "### 21. Write a Python program that reads a file and prints the number of occurrences of a specific word."
   ]
  },
  {
   "cell_type": "code",
   "execution_count": 27,
   "id": "6c83f263-f274-4765-80b6-d1a0abf7fcda",
   "metadata": {},
   "outputs": [
    {
     "name": "stdout",
     "output_type": "stream",
     "text": [
      "Occurrences of 'python': 1\n"
     ]
    }
   ],
   "source": [
    "word = 'python'\n",
    "count = 0\n",
    "with open('example.txt', 'r') as f:\n",
    "    for line in f:\n",
    "        count += line.lower().count(word.lower())\n",
    "print(f\"Occurrences of '{word}': {count}\")\n"
   ]
  },
  {
   "cell_type": "markdown",
   "id": "179315d8-d0a5-4ab0-8ff4-4e55026de41b",
   "metadata": {},
   "source": [
    "###  22. How can you check if a file is empty before attempting to read its contents?\n"
   ]
  },
  {
   "cell_type": "code",
   "execution_count": 28,
   "id": "9d56c8fa-57aa-4737-b2f9-28afceed77d3",
   "metadata": {},
   "outputs": [
    {
     "name": "stdout",
     "output_type": "stream",
     "text": [
      "Hello, Python!\n",
      "Appended line.\n"
     ]
    }
   ],
   "source": [
    "import os\n",
    "\n",
    "if os.path.getsize('example.txt') == 0:\n",
    "    print(\"File is empty.\")\n",
    "else:\n",
    "    with open('example.txt', 'r') as f:\n",
    "        print(f.read())\n"
   ]
  },
  {
   "cell_type": "markdown",
   "id": "5d7ad26a-798d-4e4d-95e6-0374eceb08d0",
   "metadata": {},
   "source": [
    "### 23. Write a Python program that writes to a log file when an error occurs during file handling.\n"
   ]
  },
  {
   "cell_type": "code",
   "execution_count": 29,
   "id": "db4d696d-1134-4ffc-a3dd-eb5b2a69b4a5",
   "metadata": {},
   "outputs": [],
   "source": [
    "import logging\n",
    "\n",
    "logging.basicConfig(filename='file_error.log', level=logging.ERROR)\n",
    "\n",
    "try:\n",
    "    with open('nofile.txt', 'r') as f:\n",
    "        print(f.read())\n",
    "except Exception as e:\n",
    "    logging.error(\"File handling error: %s\", str(e))\n"
   ]
  },
  {
   "cell_type": "code",
   "execution_count": null,
   "id": "36f23b3d-a34e-4392-a060-35f64322fcd8",
   "metadata": {},
   "outputs": [],
   "source": []
  }
 ],
 "metadata": {
  "kernelspec": {
   "display_name": "Python 3 (ipykernel)",
   "language": "python",
   "name": "python3"
  },
  "language_info": {
   "codemirror_mode": {
    "name": "ipython",
    "version": 3
   },
   "file_extension": ".py",
   "mimetype": "text/x-python",
   "name": "python",
   "nbconvert_exporter": "python",
   "pygments_lexer": "ipython3",
   "version": "3.13.3"
  }
 },
 "nbformat": 4,
 "nbformat_minor": 5
}
